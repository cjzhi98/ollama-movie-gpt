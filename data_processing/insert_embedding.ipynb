{
 "cells": [
  {
   "cell_type": "code",
   "execution_count": 13,
   "metadata": {},
   "outputs": [],
   "source": [
    "import pandas as pd"
   ]
  },
  {
   "cell_type": "code",
   "execution_count": 14,
   "metadata": {},
   "outputs": [
    {
     "data": {
      "text/html": [
       "<div>\n",
       "<style scoped>\n",
       "    .dataframe tbody tr th:only-of-type {\n",
       "        vertical-align: middle;\n",
       "    }\n",
       "\n",
       "    .dataframe tbody tr th {\n",
       "        vertical-align: top;\n",
       "    }\n",
       "\n",
       "    .dataframe thead th {\n",
       "        text-align: right;\n",
       "    }\n",
       "</style>\n",
       "<table border=\"1\" class=\"dataframe\">\n",
       "  <thead>\n",
       "    <tr style=\"text-align: right;\">\n",
       "      <th></th>\n",
       "      <th>title</th>\n",
       "      <th>overview</th>\n",
       "      <th>release_date</th>\n",
       "      <th>revenue</th>\n",
       "      <th>runtime</th>\n",
       "      <th>budget</th>\n",
       "      <th>genre</th>\n",
       "      <th>production_companies</th>\n",
       "      <th>vote_average</th>\n",
       "      <th>vote_count</th>\n",
       "    </tr>\n",
       "  </thead>\n",
       "  <tbody>\n",
       "    <tr>\n",
       "      <th>0</th>\n",
       "      <td>Toy Story</td>\n",
       "      <td>Led by Woody, Andy's toys live happily in his ...</td>\n",
       "      <td>1995-10-30</td>\n",
       "      <td>373554033.0</td>\n",
       "      <td>81.0</td>\n",
       "      <td>30000000</td>\n",
       "      <td>Animation, Comedy, Family</td>\n",
       "      <td>Pixar Animation Studios</td>\n",
       "      <td>7.7</td>\n",
       "      <td>5415.0</td>\n",
       "    </tr>\n",
       "    <tr>\n",
       "      <th>1</th>\n",
       "      <td>Jumanji</td>\n",
       "      <td>When siblings Judy and Peter discover an encha...</td>\n",
       "      <td>1995-12-15</td>\n",
       "      <td>262797249.0</td>\n",
       "      <td>104.0</td>\n",
       "      <td>65000000</td>\n",
       "      <td>Adventure, Fantasy, Family</td>\n",
       "      <td>TriStar Pictures, Teitler Film, Interscope Com...</td>\n",
       "      <td>6.9</td>\n",
       "      <td>2413.0</td>\n",
       "    </tr>\n",
       "    <tr>\n",
       "      <th>2</th>\n",
       "      <td>Grumpier Old Men</td>\n",
       "      <td>A family wedding reignites the ancient feud be...</td>\n",
       "      <td>1995-12-22</td>\n",
       "      <td>0.0</td>\n",
       "      <td>101.0</td>\n",
       "      <td>0</td>\n",
       "      <td>Romance, Comedy</td>\n",
       "      <td>Warner Bros., Lancaster Gate</td>\n",
       "      <td>6.5</td>\n",
       "      <td>92.0</td>\n",
       "    </tr>\n",
       "    <tr>\n",
       "      <th>3</th>\n",
       "      <td>Waiting to Exhale</td>\n",
       "      <td>Cheated on, mistreated and stepped on, the wom...</td>\n",
       "      <td>1995-12-22</td>\n",
       "      <td>81452156.0</td>\n",
       "      <td>127.0</td>\n",
       "      <td>16000000</td>\n",
       "      <td>Comedy, Drama, Romance</td>\n",
       "      <td>Twentieth Century Fox Film Corporation</td>\n",
       "      <td>6.1</td>\n",
       "      <td>34.0</td>\n",
       "    </tr>\n",
       "    <tr>\n",
       "      <th>4</th>\n",
       "      <td>Father of the Bride Part II</td>\n",
       "      <td>Just when George Banks has recovered from his ...</td>\n",
       "      <td>1995-02-10</td>\n",
       "      <td>76578911.0</td>\n",
       "      <td>106.0</td>\n",
       "      <td>0</td>\n",
       "      <td>Comedy</td>\n",
       "      <td>Sandollar Productions, Touchstone Pictures</td>\n",
       "      <td>5.7</td>\n",
       "      <td>173.0</td>\n",
       "    </tr>\n",
       "  </tbody>\n",
       "</table>\n",
       "</div>"
      ],
      "text/plain": [
       "                         title  \\\n",
       "0                    Toy Story   \n",
       "1                      Jumanji   \n",
       "2             Grumpier Old Men   \n",
       "3            Waiting to Exhale   \n",
       "4  Father of the Bride Part II   \n",
       "\n",
       "                                            overview release_date  \\\n",
       "0  Led by Woody, Andy's toys live happily in his ...   1995-10-30   \n",
       "1  When siblings Judy and Peter discover an encha...   1995-12-15   \n",
       "2  A family wedding reignites the ancient feud be...   1995-12-22   \n",
       "3  Cheated on, mistreated and stepped on, the wom...   1995-12-22   \n",
       "4  Just when George Banks has recovered from his ...   1995-02-10   \n",
       "\n",
       "       revenue  runtime    budget                       genre  \\\n",
       "0  373554033.0     81.0  30000000   Animation, Comedy, Family   \n",
       "1  262797249.0    104.0  65000000  Adventure, Fantasy, Family   \n",
       "2          0.0    101.0         0             Romance, Comedy   \n",
       "3   81452156.0    127.0  16000000      Comedy, Drama, Romance   \n",
       "4   76578911.0    106.0         0                      Comedy   \n",
       "\n",
       "                                production_companies  vote_average  vote_count  \n",
       "0                            Pixar Animation Studios           7.7      5415.0  \n",
       "1  TriStar Pictures, Teitler Film, Interscope Com...           6.9      2413.0  \n",
       "2                       Warner Bros., Lancaster Gate           6.5        92.0  \n",
       "3             Twentieth Century Fox Film Corporation           6.1        34.0  \n",
       "4         Sandollar Productions, Touchstone Pictures           5.7       173.0  "
      ]
     },
     "execution_count": 14,
     "metadata": {},
     "output_type": "execute_result"
    }
   ],
   "source": [
    "df = pd.read_csv(\"../data/movies_cleaned.csv\")\n",
    "df.head(5)"
   ]
  },
  {
   "cell_type": "code",
   "execution_count": 15,
   "metadata": {},
   "outputs": [
    {
     "name": "stdout",
     "output_type": "stream",
     "text": [
      "44430\n"
     ]
    }
   ],
   "source": [
    "# get number of rows\n",
    "print(df.shape[0])"
   ]
  },
  {
   "cell_type": "code",
   "execution_count": 16,
   "metadata": {},
   "outputs": [],
   "source": [
    "import ollama\n",
    "\n",
    "\n",
    "def get_embedding(text):\n",
    "    return ollama.embeddings(\n",
    "        model=\"mxbai-embed-large\",\n",
    "        prompt=text,\n",
    "    )[\"embedding\"]"
   ]
  },
  {
   "cell_type": "code",
   "execution_count": 17,
   "metadata": {},
   "outputs": [],
   "source": [
    "from qdrant_client import QdrantClient\n",
    "\n",
    "client = QdrantClient(url=\"http://localhost:6333\")"
   ]
  },
  {
   "cell_type": "code",
   "execution_count": 18,
   "metadata": {},
   "outputs": [
    {
     "name": "stderr",
     "output_type": "stream",
     "text": [
      "100%|██████████| 27230/27230 [17:51<00:00, 25.41it/s]\n"
     ]
    }
   ],
   "source": [
    "from tqdm import tqdm\n",
    "from qdrant_client.models import PointStruct\n",
    "import time\n",
    "\n",
    "start = 17200\n",
    "\n",
    "\n",
    "for index, row in tqdm(df[start:].iterrows(), total=df[start:].shape[0]):\n",
    "\n",
    "    row[\"overview\"] = row[\"overview\"].encode(\"utf-8\").decode(\"utf-8\")\n",
    "\n",
    "    payload = {\n",
    "        \"title\": row[\"title\"],\n",
    "        \"overview\": row[\"overview\"],\n",
    "        \"release_date\": row[\"release_date\"],\n",
    "        \"revenue\": row[\"revenue\"],\n",
    "        \"runtime\": row[\"runtime\"],\n",
    "        \"budget\": row[\"budget\"],\n",
    "        \"genre\": row[\"genre\"],\n",
    "        \"production_companies\": row[\"production_companies\"],\n",
    "        \"vote_average\": row[\"vote_average\"],\n",
    "        \"vote_count\": row[\"vote_count\"],\n",
    "    }\n",
    "\n",
    "    embedding = get_embedding(row[\"overview\"])\n",
    "    client.upsert(\n",
    "        collection_name=\"movies\",\n",
    "        wait=True,\n",
    "        points=[PointStruct(id=index, payload=payload, vector=embedding)],\n",
    "    )"
   ]
  },
  {
   "cell_type": "code",
   "execution_count": null,
   "metadata": {},
   "outputs": [],
   "source": [
    "from tqdm import tqdm\n",
    "from qdrant_client.models import PointStruct\n",
    "import time\n",
    "\n",
    "start = 17200\n",
    "\n",
    "\n",
    "for index, row in tqdm(df[start:].iterrows(), total=df[start:].shape[0]):\n",
    "\n",
    "    row[\"overview\"] = row[\"overview\"].encode(\"utf-8\").decode(\"utf-8\")\n",
    "\n",
    "    payload = {\n",
    "        \"title\": row[\"title\"],\n",
    "        \"overview\": row[\"overview\"],\n",
    "        \"release_date\": row[\"release_date\"],\n",
    "        \"revenue\": row[\"revenue\"],\n",
    "        \"runtime\": row[\"runtime\"],\n",
    "        \"budget\": row[\"budget\"],\n",
    "        \"genre\": row[\"genre\"],\n",
    "        \"production_companies\": row[\"production_companies\"],\n",
    "        \"vote_average\": row[\"vote_average\"],\n",
    "        \"vote_count\": row[\"vote_count\"],\n",
    "    }\n",
    "\n",
    "    embedding = get_embedding(row[\"overview\"])\n",
    "    client.upsert(\n",
    "        collection_name=\"movies_\",\n",
    "        wait=True,\n",
    "        points=[PointStruct(id=index, payload=payload, vector=embedding)],\n",
    "    )"
   ]
  }
 ],
 "metadata": {
  "kernelspec": {
   "display_name": "Python 3",
   "language": "python",
   "name": "python3"
  },
  "language_info": {
   "codemirror_mode": {
    "name": "ipython",
    "version": 3
   },
   "file_extension": ".py",
   "mimetype": "text/x-python",
   "name": "python",
   "nbconvert_exporter": "python",
   "pygments_lexer": "ipython3",
   "version": "3.11.9"
  }
 },
 "nbformat": 4,
 "nbformat_minor": 2
}
